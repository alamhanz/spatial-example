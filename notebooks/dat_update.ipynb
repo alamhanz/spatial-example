{
 "cells": [
  {
   "cell_type": "code",
   "execution_count": 1,
   "metadata": {},
   "outputs": [],
   "source": [
    "import pandas as pd"
   ]
  },
  {
   "cell_type": "code",
   "execution_count": 2,
   "metadata": {},
   "outputs": [],
   "source": [
    "df = pd.read_csv('../data/data_value.csv')"
   ]
  },
  {
   "cell_type": "code",
   "execution_count": 5,
   "metadata": {},
   "outputs": [
    {
     "data": {
      "text/plain": [
       "Index(['tahun', 'kecamatan', 'kelurahan_desa', 'kec_lower', 'kec_kel', 'lat',\n",
       "       'long', 'jumlah_stunting_beresiko', 'jumlah_stunting_tidak_beresiko',\n",
       "       'jumlah_sasaran_keluarga', 'jarak_anak_t1', 'jarak_anak_t2',\n",
       "       'jarak_anak_t3', 'jarak_anak_t4', 'memiliki_anak_baduta',\n",
       "       'memiliki_anak_balita', 'memiliki_anak_pus', 'memiliki_anak_pus_hamil',\n",
       "       'air_minum', 'jamban', 'asi_eks_jan', 'asi_eks_feb', 'asi_eks_mar',\n",
       "       'asi_eks_apr', 'asi_eks_may', 'asi_eks_jun', 'asi_eks_july',\n",
       "       'asi_eks_aug', 'asi_eks_sept', 'asi_eks_oct', 'asi_eks_nov',\n",
       "       'asi_eks_dec', 'jumlah_puskesmas_asi_eks', 'jumlah_posyandu',\n",
       "       'jumlah_posyandu_data_lansia', 'luas', 'prop_stunting_luas'],\n",
       "      dtype='object')"
      ]
     },
     "execution_count": 5,
     "metadata": {},
     "output_type": "execute_result"
    }
   ],
   "source": [
    "df.columns"
   ]
  },
  {
   "cell_type": "code",
   "execution_count": 10,
   "metadata": {},
   "outputs": [],
   "source": [
    "df2 = df[['kecamatan', 'kelurahan_desa', 'lat',\n",
    "       'long', 'jumlah_stunting_beresiko', 'jumlah_stunting_tidak_beresiko',\n",
    "       'jumlah_sasaran_keluarga','luas']].rename(columns={'kelurahan_desa':'kelurahan'})\n",
    "\n",
    "df2['kelurahan'] = df2['kelurahan'].str.capitalize()"
   ]
  },
  {
   "cell_type": "code",
   "execution_count": 11,
   "metadata": {},
   "outputs": [
    {
     "data": {
      "text/html": [
       "<div>\n",
       "<style scoped>\n",
       "    .dataframe tbody tr th:only-of-type {\n",
       "        vertical-align: middle;\n",
       "    }\n",
       "\n",
       "    .dataframe tbody tr th {\n",
       "        vertical-align: top;\n",
       "    }\n",
       "\n",
       "    .dataframe thead th {\n",
       "        text-align: right;\n",
       "    }\n",
       "</style>\n",
       "<table border=\"1\" class=\"dataframe\">\n",
       "  <thead>\n",
       "    <tr style=\"text-align: right;\">\n",
       "      <th></th>\n",
       "      <th>kecamatan</th>\n",
       "      <th>kelurahan</th>\n",
       "      <th>lat</th>\n",
       "      <th>long</th>\n",
       "      <th>jumlah_stunting_beresiko</th>\n",
       "      <th>jumlah_stunting_tidak_beresiko</th>\n",
       "      <th>jumlah_sasaran_keluarga</th>\n",
       "      <th>luas</th>\n",
       "    </tr>\n",
       "  </thead>\n",
       "  <tbody>\n",
       "    <tr>\n",
       "      <th>74</th>\n",
       "      <td>Nglegok</td>\n",
       "      <td>Krenceng</td>\n",
       "      <td>-8.0456</td>\n",
       "      <td>112.1912</td>\n",
       "      <td>174</td>\n",
       "      <td>186</td>\n",
       "      <td>2322</td>\n",
       "      <td>180.00</td>\n",
       "    </tr>\n",
       "    <tr>\n",
       "      <th>185</th>\n",
       "      <td>Sutojayan</td>\n",
       "      <td>Kembangarum</td>\n",
       "      <td>-8.1775</td>\n",
       "      <td>112.1989</td>\n",
       "      <td>507</td>\n",
       "      <td>376</td>\n",
       "      <td>2512</td>\n",
       "      <td>543.00</td>\n",
       "    </tr>\n",
       "    <tr>\n",
       "      <th>51</th>\n",
       "      <td>Ponggok</td>\n",
       "      <td>Karangbendo</td>\n",
       "      <td>-8.0211</td>\n",
       "      <td>112.1522</td>\n",
       "      <td>313</td>\n",
       "      <td>380</td>\n",
       "      <td>2516</td>\n",
       "      <td>940.00</td>\n",
       "    </tr>\n",
       "    <tr>\n",
       "      <th>42</th>\n",
       "      <td>Udanawu</td>\n",
       "      <td>Temenggungan</td>\n",
       "      <td>-8.0080</td>\n",
       "      <td>111.9866</td>\n",
       "      <td>278</td>\n",
       "      <td>2263</td>\n",
       "      <td>4399</td>\n",
       "      <td>282.45</td>\n",
       "    </tr>\n",
       "    <tr>\n",
       "      <th>215</th>\n",
       "      <td>Bakung</td>\n",
       "      <td>Kedungbanteng</td>\n",
       "      <td>-8.2489</td>\n",
       "      <td>112.0870</td>\n",
       "      <td>209</td>\n",
       "      <td>327</td>\n",
       "      <td>2463</td>\n",
       "      <td>998.13</td>\n",
       "    </tr>\n",
       "    <tr>\n",
       "      <th>116</th>\n",
       "      <td>Wlingi</td>\n",
       "      <td>Klemunan</td>\n",
       "      <td>-8.0874</td>\n",
       "      <td>112.3083</td>\n",
       "      <td>517</td>\n",
       "      <td>591</td>\n",
       "      <td>2727</td>\n",
       "      <td>403.00</td>\n",
       "    </tr>\n",
       "    <tr>\n",
       "      <th>195</th>\n",
       "      <td>Kademangan</td>\n",
       "      <td>Maron</td>\n",
       "      <td>-8.1964</td>\n",
       "      <td>112.0497</td>\n",
       "      <td>440</td>\n",
       "      <td>332</td>\n",
       "      <td>2468</td>\n",
       "      <td>1,122.00</td>\n",
       "    </tr>\n",
       "    <tr>\n",
       "      <th>200</th>\n",
       "      <td>Binangun</td>\n",
       "      <td>Sambigede</td>\n",
       "      <td>-8.2097</td>\n",
       "      <td>112.3498</td>\n",
       "      <td>384</td>\n",
       "      <td>446</td>\n",
       "      <td>2582</td>\n",
       "      <td>710.13</td>\n",
       "    </tr>\n",
       "    <tr>\n",
       "      <th>224</th>\n",
       "      <td>Bakung</td>\n",
       "      <td>Sumberdadi</td>\n",
       "      <td>-8.2655</td>\n",
       "      <td>112.0565</td>\n",
       "      <td>83</td>\n",
       "      <td>141</td>\n",
       "      <td>2277</td>\n",
       "      <td>381.96</td>\n",
       "    </tr>\n",
       "    <tr>\n",
       "      <th>22</th>\n",
       "      <td>Udanawu</td>\n",
       "      <td>Bakung</td>\n",
       "      <td>-8.0033</td>\n",
       "      <td>112.0268</td>\n",
       "      <td>112</td>\n",
       "      <td>293</td>\n",
       "      <td>2429</td>\n",
       "      <td>431.76</td>\n",
       "    </tr>\n",
       "  </tbody>\n",
       "</table>\n",
       "</div>"
      ],
      "text/plain": [
       "      kecamatan      kelurahan     lat      long  jumlah_stunting_beresiko  \\\n",
       "74      Nglegok       Krenceng -8.0456  112.1912                       174   \n",
       "185   Sutojayan    Kembangarum -8.1775  112.1989                       507   \n",
       "51      Ponggok    Karangbendo -8.0211  112.1522                       313   \n",
       "42      Udanawu   Temenggungan -8.0080  111.9866                       278   \n",
       "215      Bakung  Kedungbanteng -8.2489  112.0870                       209   \n",
       "116      Wlingi       Klemunan -8.0874  112.3083                       517   \n",
       "195  Kademangan          Maron -8.1964  112.0497                       440   \n",
       "200    Binangun      Sambigede -8.2097  112.3498                       384   \n",
       "224      Bakung     Sumberdadi -8.2655  112.0565                        83   \n",
       "22      Udanawu         Bakung -8.0033  112.0268                       112   \n",
       "\n",
       "     jumlah_stunting_tidak_beresiko  jumlah_sasaran_keluarga      luas  \n",
       "74                              186                     2322    180.00  \n",
       "185                             376                     2512    543.00  \n",
       "51                              380                     2516    940.00  \n",
       "42                             2263                     4399    282.45  \n",
       "215                             327                     2463    998.13  \n",
       "116                             591                     2727    403.00  \n",
       "195                             332                     2468  1,122.00  \n",
       "200                             446                     2582    710.13  \n",
       "224                             141                     2277    381.96  \n",
       "22                              293                     2429    431.76  "
      ]
     },
     "execution_count": 11,
     "metadata": {},
     "output_type": "execute_result"
    }
   ],
   "source": [
    "df2.sample(10)"
   ]
  },
  {
   "cell_type": "code",
   "execution_count": 13,
   "metadata": {},
   "outputs": [],
   "source": [
    "df2.to_csv('../data/location_data.csv',index = False)"
   ]
  },
  {
   "cell_type": "code",
   "execution_count": null,
   "metadata": {},
   "outputs": [],
   "source": []
  }
 ],
 "metadata": {
  "kernelspec": {
   "display_name": "spatialenv",
   "language": "python",
   "name": "python3"
  },
  "language_info": {
   "codemirror_mode": {
    "name": "ipython",
    "version": 3
   },
   "file_extension": ".py",
   "mimetype": "text/x-python",
   "name": "python",
   "nbconvert_exporter": "python",
   "pygments_lexer": "ipython3",
   "version": "3.9.18"
  }
 },
 "nbformat": 4,
 "nbformat_minor": 2
}
